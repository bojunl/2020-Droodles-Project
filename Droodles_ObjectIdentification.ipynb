{
  "nbformat": 4,
  "nbformat_minor": 0,
  "metadata": {
    "colab": {
      "name": "Droodles_ObjectIdentification.ipynb",
      "provenance": [],
      "collapsed_sections": []
    },
    "kernelspec": {
      "name": "python3",
      "display_name": "Python 3"
    }
  },
  "cells": [
    {
      "cell_type": "code",
      "metadata": {
        "id": "Q4uF1CguBfSt",
        "colab_type": "code",
        "colab": {}
      },
      "source": [
        "import numpy as np\n",
        "import os\n",
        "from PIL import Image\n",
        "import time\n",
        "import json\n",
        "import copy\n",
        "import matplotlib.pyplot as plt\n",
        "import seaborn as sns\n",
        "from collections import OrderedDict\n",
        "import torch\n",
        "from torch import nn, optim\n",
        "from torch.optim import lr_scheduler\n",
        "from torch.autograd import Variable\n",
        "import torchvision\n",
        "from torchvision import datasets, models, transforms\n",
        "from torch.utils.data.sampler import SubsetRandomSampler\n",
        "import torch.nn as nn\n",
        "import torch.nn.functional as F\n",
        "import torchvision.transforms.functional as TF\n",
        "import random\n",
        "\n",
        "imageName = 'example.jpg'\n",
        "TopPick = 5"
      ],
      "execution_count": 0,
      "outputs": []
    },
    {
      "cell_type": "code",
      "metadata": {
        "id": "q77cVG0lBy9k",
        "colab_type": "code",
        "colab": {}
      },
      "source": [
        "imageFile = Image.open(imageName)\n",
        "imageData = np.asarray(imageFile)"
      ],
      "execution_count": 0,
      "outputs": []
    },
    {
      "cell_type": "code",
      "metadata": {
        "id": "riIhX1f8KrZd",
        "colab_type": "code",
        "colab": {}
      },
      "source": [
        "device = torch.device(\"cuda:0\" if torch.cuda.is_available() else \"cpu\")"
      ],
      "execution_count": 0,
      "outputs": []
    },
    {
      "cell_type": "code",
      "metadata": {
        "id": "2BYImi-KKR0i",
        "colab_type": "code",
        "colab": {}
      },
      "source": [
        "# Load a checkpoint and rebuild the model\n",
        "\n",
        "def load_checkpoint(filepath):\n",
        "    checkpoint = torch.load(filepath)\n",
        "    model = checkpoint['model']\n",
        "    model.classifier = checkpoint['classifier']\n",
        "    model.load_state_dict(checkpoint['state_dict'])\n",
        "    model.class_to_idx = checkpoint['class_to_idx']\n",
        "    optimizer = checkpoint['optimizer']\n",
        "    epochs = checkpoint['epochs']\n",
        "    \n",
        "    for param in model.parameters():\n",
        "        param.requires_grad = False\n",
        "        \n",
        "    return model, checkpoint['class_to_idx']"
      ],
      "execution_count": 0,
      "outputs": []
    },
    {
      "cell_type": "code",
      "metadata": {
        "id": "R1CBzPtUKSiP",
        "colab_type": "code",
        "colab": {}
      },
      "source": [
        "# Load the model\n",
        "\n",
        "model, class_to_idx = load_checkpoint('checkpoint.pth')\n",
        "\n",
        "idx_to_class = { v : k for k,v in class_to_idx.items()}"
      ],
      "execution_count": 0,
      "outputs": []
    },
    {
      "cell_type": "code",
      "metadata": {
        "id": "q5Gaw6J1KXfw",
        "colab_type": "code",
        "colab": {}
      },
      "source": [
        "# Process the image to be classified\n",
        "\n",
        "def process_image(image):\n",
        "    preprocess = transforms.Compose([\n",
        "        transforms.Resize(224),\n",
        "        transforms.ToTensor(),\n",
        "    ])\n",
        "    image = preprocess(image)\n",
        "    return image"
      ],
      "execution_count": 0,
      "outputs": []
    },
    {
      "cell_type": "code",
      "metadata": {
        "id": "KTW21eyZKhdn",
        "colab_type": "code",
        "colab": {}
      },
      "source": [
        "# Show the image to be classified\n",
        "\n",
        "def imshow(image, ax=None, title=None):\n",
        "    if ax is None:\n",
        "        fig, ax = plt.subplots()\n",
        "    \n",
        "    image = image.numpy().transpose((1, 2, 0))\n",
        "    mean = np.array([0.485, 0.456, 0.406])\n",
        "    std = np.array([0.229, 0.224, 0.225])\n",
        "    image = std * image + mean\n",
        "    image = np.clip(image, 0, 1)\n",
        "    ax.imshow(image)\n",
        "    \n",
        "    return ax"
      ],
      "execution_count": 0,
      "outputs": []
    },
    {
      "cell_type": "code",
      "metadata": {
        "id": "L_SPYLQnKjQK",
        "colab_type": "code",
        "colab": {}
      },
      "source": [
        "plt.imshow(imageFile)"
      ],
      "execution_count": 0,
      "outputs": []
    },
    {
      "cell_type": "code",
      "metadata": {
        "id": "LwxguapDKuPO",
        "colab_type": "code",
        "colab": {}
      },
      "source": [
        "# Classify the image\n",
        "\n",
        "def predict2(image_path, model, TopPick):\n",
        "    img = Image.open(image_path)\n",
        "    img = process_image(img)\n",
        "    img = np.expand_dims(img, 0)\n",
        "    img = torch.from_numpy(img)\n",
        "    model.eval()\n",
        "    inputs = Variable(img).to(device)\n",
        "    logits = model.forward(inputs)\n",
        "    ps = F.softmax(logits,dim=1)\n",
        "    topk = ps.cpu().topk(topk)\n",
        "    return (e.data.numpy().squeeze().tolist() for e in topk)"
      ],
      "execution_count": 0,
      "outputs": []
    },
    {
      "cell_type": "code",
      "metadata": {
        "id": "iRdWRCtWNSuo",
        "colab_type": "code",
        "colab": {}
      },
      "source": [
        "data_transforms = {\n",
        "    'Training': transforms.Compose([\n",
        "        transforms.Resize(224),\n",
        "        rotation_transform,\n",
        "        transforms.ToTensor(),\n",
        "    ]),\n",
        "    'Validation': transforms.Compose([\n",
        "        transforms.Resize(224) ,\n",
        "        transforms.ToTensor(),\n",
        "    ])\n",
        "}\n",
        "\n",
        "\n",
        "image_datasets = {x: datasets.ImageFolder(os.path.join(data_dir, x), \\\n",
        "                                          data_transforms[x]) for x in ['Training', 'Validation']}\n",
        "                                          \n",
        "class_names = image_datasets['Training'].classes"
      ],
      "execution_count": 0,
      "outputs": []
    },
    {
      "cell_type": "code",
      "metadata": {
        "id": "pzv88GA9DWQL",
        "colab_type": "code",
        "colab": {}
      },
      "source": [
        "# Generate smaller images\n",
        "\n",
        "def imageCropping(originalImg):\n",
        "  base1 = originalImg.shape[0]\n",
        "  base2 = originalImg.shape[1]\n",
        "  base = min(base1, base2)\n",
        "  lBound = int(base * 0.3)\n",
        "  uBound = int(base * 0.7)\n",
        "  length1 = random.randint(lBound, uBound)\n",
        "  length2 = random.randint(lBound, uBound)\n",
        "  x1 = random.randint(0, base2 - length1 - 1)\n",
        "  y1 = random.randint(0, base1 - length1 - 1)\n",
        "  x2 = random.randint(0, base2 - length2 - 1)\n",
        "  y1 = random.randint(0, base1 - length2 - 1)\n",
        "  newimg1 = originalImg[y1:y1+length1, x1:x1+length1]\n",
        "  newimg2 = originalImg[y2:y2+length2, x2:x2+length2]\n",
        "  return newimg1, newimg2"
      ],
      "execution_count": 0,
      "outputs": []
    },
    {
      "cell_type": "code",
      "metadata": {
        "id": "tFDUuZsVFtI5",
        "colab_type": "code",
        "colab": {}
      },
      "source": [
        "identified = 0\n",
        "obj1 = ''\n",
        "obj2 = ''\n",
        "\n",
        "while identified == 0:\n",
        "  img1, img2 = imageCropping(imageData)\n",
        "  im1 = Image.fromarray(img1)\n",
        "  im2 = Image.fromarray(img2)\n",
        "  im1.save('temp1.jpg','JPEG')\n",
        "  im2.save('temp2.jpg','JPEG')\n",
        "  probs1, classes1 = predict2('temp1.jpg', model.to(device), TopPick)\n",
        "  object_names1 = [class_names[e] for e in classes1]\n",
        "  probs2, classes2 = predict2('temp2.jpg', model.to(device), TopPick)\n",
        "  object_names2 = [class_names[e] for e in classes2]\n",
        "  if probs1[0] > 0.9 and probs2[0] > 0.9:\n",
        "    identified = 1\n",
        "    obj1 = object_names1[0]\n",
        "    obj2 = object_names2[0]"
      ],
      "execution_count": 0,
      "outputs": []
    },
    {
      "cell_type": "code",
      "metadata": {
        "id": "HSlgGOSkPyZ3",
        "colab_type": "code",
        "colab": {}
      },
      "source": [
        "print(obj1, obj2)"
      ],
      "execution_count": 0,
      "outputs": []
    },
    {
      "cell_type": "code",
      "metadata": {
        "id": "hXx2U45THxTa",
        "colab_type": "code",
        "colab": {}
      },
      "source": [
        "f = open(\"identified.txt\", \"w\")\n",
        "f.write(obj1)\n",
        "f.write(\"\\n\")\n",
        "f.write(obj2)\n",
        "f.close()"
      ],
      "execution_count": 0,
      "outputs": []
    }
  ]
}