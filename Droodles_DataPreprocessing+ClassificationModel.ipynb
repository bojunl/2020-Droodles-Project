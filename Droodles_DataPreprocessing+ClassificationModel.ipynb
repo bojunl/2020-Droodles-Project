{
  "nbformat": 4,
  "nbformat_minor": 0,
  "metadata": {
    "colab": {
      "name": "Droodles_DataPreprocessing+ClassificationModel.ipynb",
      "provenance": [],
      "collapsed_sections": []
    },
    "kernelspec": {
      "name": "python3",
      "display_name": "Python 3"
    }
  },
  "cells": [
    {
      "cell_type": "code",
      "metadata": {
        "id": "f8m6H-fP-7tZ",
        "colab_type": "code",
        "colab": {}
      },
      "source": [
        ""
      ],
      "execution_count": 0,
      "outputs": []
    },
    {
      "cell_type": "code",
      "metadata": {
        "id": "TbAGPVY-NbVl",
        "colab_type": "code",
        "colab": {}
      },
      "source": [
        "trainSize = 100000\n",
        "validSize = 2000\n",
        "numClass = 200\n",
        "TopPick = 5\n",
        "batch_size = 64\n",
        "numEpoch = 100\n",
        "model_name = 'vgg' \n",
        "sample_img_name = 'example.jpg'\n",
        "\n",
        "import numpy as np\n",
        "import os\n",
        "from PIL import Image\n",
        "import time\n",
        "import json\n",
        "import copy\n",
        "import matplotlib.pyplot as plt\n",
        "import seaborn as sns\n",
        "from collections import OrderedDict\n",
        "import torch\n",
        "from torch import nn, optim\n",
        "from torch.optim import lr_scheduler\n",
        "from torch.autograd import Variable\n",
        "import torchvision\n",
        "from torchvision import datasets, models, transforms\n",
        "from torch.utils.data.sampler import SubsetRandomSampler\n",
        "import torch.nn as nn\n",
        "import torch.nn.functional as F\n",
        "import torchvision.transforms.functional as TF\n",
        "import random"
      ],
      "execution_count": 0,
      "outputs": []
    },
    {
      "cell_type": "code",
      "metadata": {
        "id": "WArMLogW_Nsu",
        "colab_type": "code",
        "colab": {}
      },
      "source": [
        "# Preprocessing images in the dataset\n",
        "if not os.path.exists(\"Images\"):\n",
        "    os.mkdir(\"Images\")\n",
        "    if not os.path.exists(\"Images//Train\"):\n",
        "        os.mkdir(\"Images//Training\")\n",
        "        os.mkdir(\"Images//Validation\")\n",
        "\n",
        "baseDirT = \"Images//Training//\"\n",
        "baseDirV = \"Images//Validation//\"\n",
        "\n",
        "category = []\n",
        "allNum = 0\n",
        "for file in os.listdir(\"Dataset\"):\n",
        "    if file.endswith(\".npy\"):\n",
        "        Name = file[:-4]\n",
        "        if not os.path.exists(baseDirT + Name):\n",
        "            os.mkdir(baseDirT + Name)\n",
        "            os.mkdir(baseDirV + Name)\n",
        "        tempFile = np.load(\"Dataset//\" + file)\n",
        "        num = 0\n",
        "        NbaseDirT = baseDirT + Name + '//'\n",
        "        NbaseDirV = baseDirV + Name + '//'\n",
        "        while(num < trainSize):\n",
        "            im = Image.fromarray((-(tempFile[num] - 255)).reshape(28,28))\n",
        "            fileName = str(allNum) + \".jpg\"\n",
        "            im.save(NbaseDirT + fileName, 'JPEG')\n",
        "            num += 1\n",
        "            allNum += 1\n",
        "        num = 0\n",
        "        while(num < validSize):\n",
        "            im = Image.fromarray((-(tempFile[num + trainSize] - 255)).reshape(28,28))\n",
        "            fileName = str(allNum) + \".jpg\"\n",
        "            im.save(NbaseDirV + fileName, 'JPEG')\n",
        "            num += 1\n",
        "            allNum += 1"
      ],
      "execution_count": 0,
      "outputs": []
    },
    {
      "cell_type": "code",
      "metadata": {
        "id": "roO1NDyo_Qzc",
        "colab_type": "code",
        "colab": {}
      },
      "source": [
        "\"\"\"\n",
        "from google.colab import drive\n",
        "drive.mount('/content/drive')\n",
        "\"\"\""
      ],
      "execution_count": 0,
      "outputs": []
    },
    {
      "cell_type": "code",
      "metadata": {
        "id": "jrpkwNlP_TRO",
        "colab_type": "code",
        "colab": {}
      },
      "source": [
        "# training on GPU/CPU\n",
        "train_on_gpu = torch.cuda.is_available()\n",
        "\n",
        "if not train_on_gpu:\n",
        "    print('Training on CPU')\n",
        "else:\n",
        "    print('Training on GPU')\n",
        "\n",
        "device = torch.device(\"cuda:0\" if torch.cuda.is_available() else \"cpu\")"
      ],
      "execution_count": 0,
      "outputs": []
    },
    {
      "cell_type": "code",
      "metadata": {
        "id": "TIgm_V4P_U_s",
        "colab_type": "code",
        "colab": {}
      },
      "source": [
        "data_dir = 'Images'\n",
        "train_dir = data_dir + '//Training'\n",
        "valid_dir = data_dir + '//Validation'"
      ],
      "execution_count": 0,
      "outputs": []
    },
    {
      "cell_type": "code",
      "metadata": {
        "id": "pFnsnNUl_WuG",
        "colab_type": "code",
        "colab": {}
      },
      "source": [
        "# Data Transformation\n",
        "class MyRotationTransform:\n",
        "\n",
        "    def __init__(self, angles):\n",
        "        self.angles = angles\n",
        "\n",
        "    def __call__(self, x):\n",
        "        angle = random.choice(self.angles)\n",
        "        return TF.rotate(x, angle)\n",
        "\n",
        "rotation_transform = MyRotationTransform(angles=[-90, 0, 90, 180])\n",
        "\n",
        "data_transforms = {\n",
        "    'Training': transforms.Compose([\n",
        "        transforms.Resize(224),\n",
        "        rotation_transform,\n",
        "        transforms.ToTensor(),\n",
        "    ]),\n",
        "    'Validation': transforms.Compose([\n",
        "        transforms.Resize(224) ,\n",
        "        transforms.ToTensor(),\n",
        "    ])\n",
        "}\n",
        "\n",
        "\n",
        "image_datasets = {x: datasets.ImageFolder(os.path.join(data_dir, x), \\\n",
        "                                          data_transforms[x]) for x in ['Training', 'Validation']}\n",
        "\n",
        "dataloaders = {x: torch.utils.data.DataLoader(image_datasets[x], batch_size=batch_size, \\\n",
        "                                              shuffle=True, num_workers=4) for x in ['Training', 'Validation']}\n",
        "\n",
        "class_names = image_datasets['Training'].classes\n",
        "\n",
        "dataset_sizes = {x: len(image_datasets[x]) for x in ['Training', 'Validation']}"
      ],
      "execution_count": 0,
      "outputs": []
    },
    {
      "cell_type": "code",
      "metadata": {
        "id": "lzfsNs0v_YQe",
        "colab_type": "code",
        "colab": {}
      },
      "source": [
        "print(dataset_sizes)\n",
        "print(device)"
      ],
      "execution_count": 0,
      "outputs": []
    },
    {
      "cell_type": "code",
      "metadata": {
        "id": "6bCHYqgn_Zuj",
        "colab_type": "code",
        "colab": {}
      },
      "source": [
        "images, labels = next(iter(dataloaders['Training']))\n",
        "images.size()"
      ],
      "execution_count": 0,
      "outputs": []
    },
    {
      "cell_type": "code",
      "metadata": {
        "id": "A37ohYkn_bAL",
        "colab_type": "code",
        "colab": {}
      },
      "source": [
        "# Choose the CNN architecture\n",
        "\n",
        "if model_name == 'densenet':\n",
        "    model = models.densenet161(pretrained=True)\n",
        "    num_in_features = 2208\n",
        "elif model_name == 'vgg':\n",
        "    model = models.vgg19(pretrained=True)\n",
        "    num_in_features = 25088\n",
        "else:\n",
        "    pass\n",
        "\n",
        "for param in model.parameters():\n",
        "    param.requires_grad = False"
      ],
      "execution_count": 0,
      "outputs": []
    },
    {
      "cell_type": "code",
      "metadata": {
        "id": "Q_iUKJUA_cUP",
        "colab_type": "code",
        "colab": {}
      },
      "source": [
        "# Build model\n",
        "\n",
        "def build_classifier(num_in_features, hidden_layers, num_out_features):\n",
        "    classifier = nn.Sequential()\n",
        "    if hidden_layers == None:\n",
        "        classifier.add_module('fc0', nn.Linear(num_in_features, 102))\n",
        "    else:\n",
        "        layer_sizes = zip(hidden_layers[:-1], hidden_layers[1:])\n",
        "        classifier.add_module('fc0', nn.Linear(num_in_features, hidden_layers[0]))\n",
        "        classifier.add_module('relu0', nn.ReLU())\n",
        "        classifier.add_module('drop0', nn.Dropout(.6))\n",
        "        classifier.add_module('relu1', nn.ReLU())\n",
        "        classifier.add_module('drop1', nn.Dropout(.5))\n",
        "        for i, (h1, h2) in enumerate(layer_sizes):\n",
        "            classifier.add_module('fc'+str(i+1), nn.Linear(h1, h2))\n",
        "            classifier.add_module('relu'+str(i+1), nn.ReLU())\n",
        "            classifier.add_module('drop'+str(i+1), nn.Dropout(.5))\n",
        "        classifier.add_module('output', nn.Linear(hidden_layers[-1], num_out_features))\n",
        "    return classifier\n",
        "\n",
        "hidden_layers = None\n",
        "\n",
        "classifier = build_classifier(num_in_features, hidden_layers, numClass)"
      ],
      "execution_count": 0,
      "outputs": []
    },
    {
      "cell_type": "code",
      "metadata": {
        "id": "2dIzVA50_eHI",
        "colab_type": "code",
        "colab": {}
      },
      "source": [
        "if model_name == 'densenet':\n",
        "    model.classifier = classifier\n",
        "    criterion = nn.CrossEntropyLoss()\n",
        "    optimizer = optim.Adadelta(model.parameters()) \n",
        "    sched = optim.lr_scheduler.StepLR(optimizer, step_size=4)\n",
        "elif model_name == 'vgg':\n",
        "    model.classifier = classifier\n",
        "    criterion = nn.NLLLoss()\n",
        "    optimizer = optim.Adam(model.classifier.parameters(), lr=0.0001)\n",
        "    sched = lr_scheduler.StepLR(optimizer, step_size=4, gamma=0.1)\n",
        "else:\n",
        "    pass"
      ],
      "execution_count": 0,
      "outputs": []
    },
    {
      "cell_type": "code",
      "metadata": {
        "id": "T4oxe5JV_fXM",
        "colab_type": "code",
        "colab": {}
      },
      "source": [
        "# train the model\n",
        "def train_model(model, criterion, optimizer, sched, num_epochs=5):\n",
        "    since = time.time()\n",
        "    best_model_wts = copy.deepcopy(model.state_dict())\n",
        "    best_acc = 0.0\n",
        "    for epoch in range(num_epochs):\n",
        "        print('Epoch {}/{}'.format(epoch+1, num_epochs))\n",
        "        print('-' * 10)\n",
        "        for phase in ['Training', 'Validation']:\n",
        "            if phase == 'Training':\n",
        "                model.train()  \n",
        "            else:\n",
        "                model.eval()\n",
        "            running_loss = 0.0\n",
        "            running_corrects = 0\n",
        "            for inputs, labels in dataloaders[phase]:\n",
        "                inputs = inputs.to(device)\n",
        "                labels = labels.to(device)\n",
        "                optimizer.zero_grad()\n",
        "                with torch.set_grad_enabled(phase == 'Training'):\n",
        "                    outputs = model(inputs)\n",
        "                    _, preds = torch.max(outputs, 1)\n",
        "                    loss = criterion(outputs, labels)\n",
        "                    if phase == 'Training':\n",
        "                        loss.backward()\n",
        "                        optimizer.step()\n",
        "                running_loss += loss.item() * inputs.size(0)\n",
        "                running_corrects += torch.sum(preds == labels.data)\n",
        "            epoch_loss = running_loss / dataset_sizes[phase]\n",
        "            epoch_acc = running_corrects.double() / dataset_sizes[phase]\n",
        "            print('{} Loss: {:.4f} Acc: {:.4f}'.format(\n",
        "                phase, epoch_loss, epoch_acc))\n",
        "            if phase == 'Validation' and epoch_acc > best_acc:\n",
        "                best_acc = epoch_acc\n",
        "                best_model_wts = copy.deepcopy(model.state_dict())\n",
        "        print()\n",
        "    time_elapsed = time.time() - since\n",
        "    print('Training complete in {:.0f}m {:.0f}s'.format(\n",
        "        time_elapsed // 60, time_elapsed % 60))\n",
        "    print('Best val Acc: {:4f}'.format(best_acc))\n",
        "    model.load_state_dict(best_model_wts)\n",
        "    return model"
      ],
      "execution_count": 0,
      "outputs": []
    },
    {
      "cell_type": "code",
      "metadata": {
        "id": "hlKoc_v4_hKk",
        "colab_type": "code",
        "colab": {}
      },
      "source": [
        "epochs = numEpoch\n",
        "model.to(device)\n",
        "model = train_model(model, criterion, optimizer, sched, epochs)"
      ],
      "execution_count": 0,
      "outputs": []
    },
    {
      "cell_type": "code",
      "metadata": {
        "id": "pcg95AoP_pV8",
        "colab_type": "code",
        "colab": {}
      },
      "source": [
        "# test classification accuracy\n",
        "model.eval()\n",
        "\n",
        "accuracy = 0\n",
        "\n",
        "for inputs, labels in dataloaders['Validation']:\n",
        "    inputs, labels = inputs.to(device), labels.to(device)\n",
        "    outputs = model(inputs)\n",
        "    equality = (labels.data == outputs.max(1)[1])\n",
        "    accuracy += equality.type_as(torch.FloatTensor()).mean()\n",
        "    \n",
        "print(\"Test accuracy: {:.3f}\".format(accuracy/len(dataloaders['Validation'])))"
      ],
      "execution_count": 0,
      "outputs": []
    },
    {
      "cell_type": "code",
      "metadata": {
        "id": "YbYfFnsG_pyJ",
        "colab_type": "code",
        "colab": {}
      },
      "source": [
        "model.class_to_idx = image_datasets['Training'].class_to_idx"
      ],
      "execution_count": 0,
      "outputs": []
    },
    {
      "cell_type": "code",
      "metadata": {
        "id": "81x2EyQM_rb9",
        "colab_type": "code",
        "colab": {}
      },
      "source": [
        "# Save the trained model\n",
        "\n",
        "checkpoint = {'input_size': 2208,\n",
        "              'output_size': numClass,\n",
        "              'epochs': epochs,\n",
        "              'batch_size': 64,\n",
        "              'model': models.vgg19(pretrained=True),\n",
        "              'classifier': classifier,\n",
        "              'scheduler': sched,\n",
        "              'optimizer': optimizer.state_dict(),\n",
        "              'state_dict': model.state_dict(),\n",
        "              'class_to_idx': model.class_to_idx\n",
        "             }\n",
        "   \n",
        "torch.save(checkpoint, 'checkpoint.pth')"
      ],
      "execution_count": 0,
      "outputs": []
    },
    {
      "cell_type": "code",
      "metadata": {
        "id": "JXN_qPH7_tYc",
        "colab_type": "code",
        "colab": {}
      },
      "source": [
        "\"\"\"\n",
        "ckpt = torch.load('checkpoint.pth')\n",
        "\"\"\""
      ],
      "execution_count": 0,
      "outputs": []
    }
  ]
}